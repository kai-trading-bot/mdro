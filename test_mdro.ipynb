{
 "cells": [
  {
   "cell_type": "code",
   "execution_count": 1,
   "id": "46b39ff7",
   "metadata": {},
   "outputs": [],
   "source": [
    "%load_ext autoreload\n",
    "%autoreload 2\n",
    "import warnings\n",
    "warnings.filterwarnings(\"ignore\", category=RuntimeWarning)\n",
    "warnings.filterwarnings(\"ignore\", category=FutureWarning)\n",
    "warnings.filterwarnings(\"ignore\", category=UserWarning)\n",
    "from main import *"
   ]
  },
  {
   "cell_type": "markdown",
   "id": "9a57e595",
   "metadata": {},
   "source": [
    "##### Fetch weights"
   ]
  },
  {
   "cell_type": "code",
   "execution_count": 4,
   "id": "f7554b53",
   "metadata": {},
   "outputs": [
    {
     "name": "stdout",
     "output_type": "stream",
     "text": [
      "Using $\\epsilon$ = [0.0071295844770898195, 0.008177287694004049, 0.005710018249135276, 7.694215542022208e-05, 0.004547196039106853]$ for 5 components\n",
      "Conic program object:\n",
      "=============================================\n",
      "Number of variables:           3329\n",
      "Continuous/binaries/integers:  3329/0/0\n",
      "---------------------------------------------\n",
      "Number of linear constraints:  25202\n",
      "Inequalities/equalities:       25201/1\n",
      "Number of coefficients:        98706\n",
      "---------------------------------------------\n",
      "Number of SOC constraints:     0\n",
      "---------------------------------------------\n",
      "Number of ExpCone constraints: 0\n",
      "---------------------------------------------\n",
      "Number of PSCone constraints:  0\n",
      "\n",
      "Being solved by the default LP solver...\n",
      "Solution status: 0\n",
      "Running time: 0.2561s\n",
      "Solver:          SciPy\n",
      "Solution status: 0\n",
      "Solution time:   0.2561s\n",
      "-------------------------------------\n",
      "Objective value: 0.14072660603895382\n",
      "Primal solution: Available\n",
      "Dual solution:   Available\n"
     ]
    }
   ],
   "source": [
    "weights = run(num_stocks=20, \n",
    "              num_days=60, \n",
    "              num_components=5)"
   ]
  },
  {
   "cell_type": "code",
   "execution_count": 5,
   "id": "5e8fc880",
   "metadata": {},
   "outputs": [
    {
     "data": {
      "text/plain": [
       "A       0.061893\n",
       "AAL     0.035850\n",
       "AAPL    0.061893\n",
       "ABBV    0.061893\n",
       "ABNB    0.061893\n",
       "ABT     0.061893\n",
       "ACGL    0.061893\n",
       "ACN     0.061893\n",
       "ADBE    0.000000\n",
       "ADI     0.061893\n",
       "ADM     0.061893\n",
       "ADP     0.061893\n",
       "ADSK    0.017262\n",
       "AEE     0.061893\n",
       "AEP     0.018489\n",
       "AES     0.000000\n",
       "AFL     0.061893\n",
       "AIG     0.061893\n",
       "AIZ     0.061893\n",
       "AJG     0.061893\n",
       "dtype: float64"
      ]
     },
     "execution_count": 5,
     "metadata": {},
     "output_type": "execute_result"
    }
   ],
   "source": [
    "weights"
   ]
  },
  {
   "cell_type": "markdown",
   "id": "d821990e",
   "metadata": {},
   "source": [
    "##### Entropy ratio"
   ]
  },
  {
   "cell_type": "code",
   "execution_count": 13,
   "id": "f670963a",
   "metadata": {},
   "outputs": [
    {
     "data": {
      "text/plain": [
       "0.9501190654623692"
      ]
     },
     "execution_count": 13,
     "metadata": {},
     "output_type": "execute_result"
    }
   ],
   "source": [
    "m = 20\n",
    "sum((weights * np.log(weights)).dropna()) / (m * (1 / m * np.log(1 / m)))"
   ]
  }
 ],
 "metadata": {
  "kernelspec": {
   "display_name": "Python 3 (ipykernel)",
   "language": "python",
   "name": "python3"
  },
  "language_info": {
   "codemirror_mode": {
    "name": "ipython",
    "version": 3
   },
   "file_extension": ".py",
   "mimetype": "text/x-python",
   "name": "python",
   "nbconvert_exporter": "python",
   "pygments_lexer": "ipython3",
   "version": "3.9.13"
  }
 },
 "nbformat": 4,
 "nbformat_minor": 5
}
